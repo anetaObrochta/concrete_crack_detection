{
 "cells": [
  {
   "cell_type": "code",
   "execution_count": 17,
   "id": "fd294158-9b0f-44b5-bc94-e2cb69614ee8",
   "metadata": {},
   "outputs": [],
   "source": [
    "import ipywidgets as widgets\n",
    "from IPython.display import display\n",
    "from PIL import Image\n",
    "import numpy as np\n",
    "import io\n",
    "import tensorflow as tf\n",
    "from tensorflow.keras.models import load_model\n"
   ]
  },
  {
   "cell_type": "code",
   "execution_count": 14,
   "id": "e4210111-8530-4498-8afc-233501c0610c",
   "metadata": {},
   "outputs": [],
   "source": [
    "model = load_model('concrete_crack_detection_v4.h5')"
   ]
  },
  {
   "cell_type": "code",
   "execution_count": 18,
   "id": "fe39789b-a0c7-4d13-b143-f927ead6bb49",
   "metadata": {},
   "outputs": [],
   "source": [
    "\n",
    "\n",
    "def preprocess_image(image):\n",
    "    print(\"Preprocessing image...\")\n",
    "    image = image.resize((227, 227))  # Adjust size if your model expects a different input size\n",
    "    img_array = np.array(image) / 255.0\n",
    "    img_array = np.expand_dims(img_array, axis=0)\n",
    "    print(\"Preprocessing complete.\")\n",
    "    return img_array\n",
    "\n",
    "def predict_crack(file_data):\n",
    "    print(\"Predict function called.\")\n",
    "    print(\"File uploaded. Processing...\")\n",
    "    try:\n",
    "        file_content = file_data['content']\n",
    "        image = Image.open(io.BytesIO(file_content))\n",
    "        \n",
    "        processed_image = preprocess_image(image)\n",
    "        \n",
    "        print(\"Making prediction...\")\n",
    "        prediction = model.predict(processed_image)\n",
    "        \n",
    "        if prediction[0][0] > 0.5:\n",
    "            result = \"Crack detected!\"\n",
    "        else:\n",
    "            result = \"No crack detected.\"\n",
    "        \n",
    "        display(image)\n",
    "        print(f\"Prediction: {result}\")\n",
    "        print(f\"Confidence: {prediction[0][0]:.2f}\")\n",
    "    except Exception as e:\n",
    "        print(f\"An error occurred: {str(e)}\")"
   ]
  },
  {
   "cell_type": "code",
   "execution_count": 20,
   "id": "1a86a47c-490e-4dac-ab1d-c7331f748b09",
   "metadata": {},
   "outputs": [
    {
     "data": {
      "application/vnd.jupyter.widget-view+json": {
       "model_id": "15e284580a854336aba6b397da791ded",
       "version_major": 2,
       "version_minor": 0
      },
      "text/plain": [
       "FileUpload(value=(), accept='image/*', description='Upload')"
      ]
     },
     "metadata": {},
     "output_type": "display_data"
    },
    {
     "data": {
      "application/vnd.jupyter.widget-view+json": {
       "model_id": "8f2bd23a498b46849139098945a4167b",
       "version_major": 2,
       "version_minor": 0
      },
      "text/plain": [
       "Button(description='Predict', style=ButtonStyle())"
      ]
     },
     "metadata": {},
     "output_type": "display_data"
    },
    {
     "data": {
      "application/vnd.jupyter.widget-view+json": {
       "model_id": "abf3d29e62264b9b95e9e736b5598b67",
       "version_major": 2,
       "version_minor": 0
      },
      "text/plain": [
       "Output()"
      ]
     },
     "metadata": {},
     "output_type": "display_data"
    }
   ],
   "source": [
    "# Create the file upload widget\n",
    "uploader = widgets.FileUpload(\n",
    "    accept='image/*',  # Accept all image files\n",
    "    multiple=False  # Only allow one file at a time\n",
    ")\n",
    "\n",
    "output = widgets.Output()\n",
    "\n",
    "def on_button_clicked(b):\n",
    "    with output:\n",
    "        output.clear_output()\n",
    "        if uploader.value:\n",
    "            # uploader.value is a tuple, so we can directly access the first (and only) element\n",
    "            uploaded_file = uploader.value[0]\n",
    "            predict_crack(uploaded_file)\n",
    "        else:\n",
    "            print(\"Please upload an image first.\")\n",
    "\n",
    "button = widgets.Button(description=\"Predict\")\n",
    "button.on_click(on_button_clicked)\n",
    "\n",
    "display(uploader, button, output)"
   ]
  },
  {
   "cell_type": "code",
   "execution_count": null,
   "id": "06dc6d56-1374-4808-9802-58d7a8c19bed",
   "metadata": {},
   "outputs": [],
   "source": []
  }
 ],
 "metadata": {
  "kernelspec": {
   "display_name": "Python 3 (ipykernel)",
   "language": "python",
   "name": "python3"
  },
  "language_info": {
   "codemirror_mode": {
    "name": "ipython",
    "version": 3
   },
   "file_extension": ".py",
   "mimetype": "text/x-python",
   "name": "python",
   "nbconvert_exporter": "python",
   "pygments_lexer": "ipython3",
   "version": "3.10.14"
  }
 },
 "nbformat": 4,
 "nbformat_minor": 5
}
